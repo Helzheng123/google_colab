{
  "nbformat": 4,
  "nbformat_minor": 0,
  "metadata": {
    "colab": {
      "provenance": [],
      "authorship_tag": "ABX9TyPVrkrQKdiJWBGE8aREOjXr",
      "include_colab_link": true
    },
    "kernelspec": {
      "name": "python3",
      "display_name": "Python 3"
    },
    "language_info": {
      "name": "python"
    }
  },
  "cells": [
    {
      "cell_type": "markdown",
      "metadata": {
        "id": "view-in-github",
        "colab_type": "text"
      },
      "source": [
        "<a href=\"https://colab.research.google.com/github/Helzheng123/google_colab/blob/main/HHA507class1.ipynb\" target=\"_parent\"><img src=\"https://colab.research.google.com/assets/colab-badge.svg\" alt=\"Open In Colab\"/></a>"
      ]
    },
    {
      "cell_type": "markdown",
      "source": [
        "# Loading Packages\n"
      ],
      "metadata": {
        "id": "0xMg9O-czR4r"
      }
    },
    {
      "cell_type": "code",
      "source": [
        "import pandas as pd\n",
        "import seaborn as sns\n",
        "import plotly as plt"
      ],
      "metadata": {
        "id": "4K1Tp5PzzZ3C"
      },
      "execution_count": null,
      "outputs": []
    },
    {
      "cell_type": "code",
      "source": [
        "!pip freeze > packages.txt"
      ],
      "metadata": {
        "id": "ZxVqiYAUzgOx"
      },
      "execution_count": null,
      "outputs": []
    },
    {
      "cell_type": "markdown",
      "source": [
        "# Creating Functions"
      ],
      "metadata": {
        "id": "FJuWZjr3xtwx"
      }
    },
    {
      "cell_type": "code",
      "execution_count": null,
      "metadata": {
        "id": "yYJ9NBKKwZD6"
      },
      "outputs": [],
      "source": [
        "def bloodpress(systolic, diastolic):\n",
        "  total = systolic + diastolic\n",
        "  return total"
      ]
    },
    {
      "cell_type": "code",
      "source": [
        "def bloodsugar(value):\n",
        "  valuetoprint = f\"Your blood sugar is {value}\"\n",
        "  return valuetoprint"
      ],
      "metadata": {
        "id": "MQ5H6tSVyNhI"
      },
      "execution_count": null,
      "outputs": []
    },
    {
      "cell_type": "markdown",
      "source": [
        "# Testing Functions"
      ],
      "metadata": {
        "id": "GqSYOxM8ya5l"
      }
    },
    {
      "cell_type": "code",
      "source": [
        "# Test for Blood Pressure\n",
        "\n",
        "test1 = bloodpress(190, 155)\n",
        "test1"
      ],
      "metadata": {
        "colab": {
          "base_uri": "https://localhost:8080/"
        },
        "id": "41S_JX34ycpE",
        "outputId": "00286564-a256-4969-b963-ced8676c605c"
      },
      "execution_count": null,
      "outputs": [
        {
          "output_type": "execute_result",
          "data": {
            "text/plain": [
              "345"
            ]
          },
          "metadata": {},
          "execution_count": 3
        }
      ]
    },
    {
      "cell_type": "code",
      "source": [
        "test2 = bloodsugar (200)\n",
        "print(test2)"
      ],
      "metadata": {
        "colab": {
          "base_uri": "https://localhost:8080/"
        },
        "id": "Zfoe7RiAy9MH",
        "outputId": "bc0cb19d-9d38-4c22-e3bf-4571fb46f333"
      },
      "execution_count": null,
      "outputs": [
        {
          "output_type": "stream",
          "name": "stdout",
          "text": [
            "Your blood sugar is 200\n"
          ]
        }
      ]
    }
  ]
}